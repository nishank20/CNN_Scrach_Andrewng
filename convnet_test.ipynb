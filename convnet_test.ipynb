{
 "cells": [
  {
   "cell_type": "code",
   "execution_count": 1,
   "metadata": {},
   "outputs": [],
   "source": [
    "import numpy as np\n",
    "import random\n",
    "import math\n",
    "import time\n",
    "import scipy\n",
    "from scipy import ndimage, misc\n",
    "import matplotlib.pyplot as plt"
   ]
  },
  {
   "cell_type": "code",
   "execution_count": 6,
   "metadata": {},
   "outputs": [
    {
     "name": "stdout",
     "output_type": "stream",
     "text": [
      "(1720, 2584) <class 'numpy.ndarray'>\n",
      "(43, 64)\n"
     ]
    },
    {
     "name": "stderr",
     "output_type": "stream",
     "text": [
      "/home/singhals/anaconda2/envs/MaskRCNN/lib/python3.6/site-packages/ipykernel_launcher.py:1: DeprecationWarning: `imread` is deprecated!\n",
      "`imread` is deprecated in SciPy 1.0.0.\n",
      "Use ``matplotlib.pyplot.imread`` instead.\n",
      "  \"\"\"Entry point for launching an IPython kernel.\n",
      "/home/singhals/anaconda2/envs/MaskRCNN/lib/python3.6/site-packages/ipykernel_launcher.py:5: DeprecationWarning: `imresize` is deprecated!\n",
      "`imresize` is deprecated in SciPy 1.0.0, and will be removed in 1.3.0.\n",
      "Use Pillow instead: ``numpy.array(Image.fromarray(arr).resize())``.\n",
      "  \"\"\"\n"
     ]
    }
   ],
   "source": [
    "im = scipy.ndimage.imread('cat.jpg', flatten=True)\n",
    "print (im.shape, type(im))\n",
    "a = im.shape[0]\n",
    "b= im.shape[1]\n",
    "cat = scipy.misc.imresize(im, (int(a/40),int(b/40)), interp='bilinear', mode=None)\n",
    "cat = 1.0 - cat/255.0\n",
    "print (cat.shape)"
   ]
  },
  {
   "cell_type": "code",
   "execution_count": 7,
   "metadata": {},
   "outputs": [],
   "source": [
    "test = np.empty((12*12))\n",
    "for i in range(144):\n",
    "    test[i] = i\n",
    "test = test.reshape((3,12,4))\n",
    "# print test"
   ]
  },
  {
   "cell_type": "code",
   "execution_count": 33,
   "metadata": {},
   "outputs": [],
   "source": [
    "DEPTH = 3\n",
    "STRIDE = 1\n",
    "# to ensure that the input and output volumes are the same: use P=(F-1)/2 given stride 1.\n",
    "PADDING = 0\n",
    "FILTER_SIZE = 2\n",
    "\n",
    "class ToyNet(object):\n",
    "\n",
    "    def __init__(self, sizes):\n",
    "        self.sizes = sizes\n",
    "        # initialize a list of filters\n",
    "        self.weights = []\n",
    "        for i in range(DEPTH):\n",
    "            self.weights.append([np.random.randn(FILTER_SIZE, FILTER_SIZE)])\n",
    "        self.biases = np.random.rand(DEPTH,1)\n",
    "        self.activations = []\n",
    "\n",
    "    def convolve(self, input_neurons):\n",
    "        '''\n",
    "        Assume input image to be of channel one!\n",
    "        '''\n",
    "        output_dim1 = (input_neurons.shape[0] - FILTER_SIZE + 2*PADDING)/STRIDE + 1        # num of rows\n",
    "        output_dim2 =  (input_neurons.shape[1] - FILTER_SIZE + 2*PADDING)/STRIDE + 1       # num of cols\n",
    "\n",
    "        for i in range(DEPTH):\n",
    "            self.activations.append(np.empty(int(output_dim1 * output_dim2)))\n",
    "\n",
    "        print ('shape of input (rows,cols): ', input_neurons.shape)\n",
    "        print ('shape of output (rows, cols): ','(', output_dim1,',', output_dim2, ')')\n",
    "\n",
    "        for j in range(DEPTH):\n",
    "            slide = 0\n",
    "            row = 0\n",
    "            print (self.activations[j].shape[0])    # one dimensional\n",
    "\n",
    "            for i in range(self.activations[j].shape[0]):  # loop til the output array is filled up -> one dimensional (600)\n",
    "\n",
    "                # ACTIVATIONS -> loop through each 2x2 block horizontally\n",
    "                self.activations[j][i] = sigmoid(np.sum(input_neurons[row:FILTER_SIZE+row, slide:FILTER_SIZE + slide] * self.weights[j][0]) + self.biases[j])\n",
    "                slide += STRIDE\n",
    "\n",
    "                if (FILTER_SIZE + slide)-STRIDE >= input_neurons.shape[1]:    # wrap indeces at the end of each row\n",
    "                    slide = 0\n",
    "                    row += STRIDE\n",
    "\n",
    "            self.activations[j] = self.activations[j].reshape((int(output_dim1), int(output_dim2)))\n",
    "        print (self.activations)\n",
    "        return self.activations\n"
   ]
  },
  {
   "cell_type": "code",
   "execution_count": 34,
   "metadata": {},
   "outputs": [],
   "source": [
    "class PoolingLayer(object):\n",
    "\n",
    "    def __init__(self, width_in, height_in, depth, poolsize = (2,2)):\n",
    "        '''\n",
    "        width_in and height_in are the dimensions of the input image\n",
    "        poolsize is treated as a tuple of filter and stride -> it should work with overlapping pooling\n",
    "        '''\n",
    "        self.width_in = width_in\n",
    "        self.height_in = height_in\n",
    "        self.depth = depth\n",
    "        self.poolsize = poolsize\n",
    "        self.width_out = (self.width_in - self.poolsize[0])/self.poolsize[1] + 1      # num of output neurons\n",
    "        self.height_out = (self.height_in - self.poolsize[0])/self.poolsize[1] + 1\n",
    "        print (self.height_out, self.width_out)\n",
    "\n",
    "        # initialize empty output matrix\n",
    "        self.output = np.empty((self.depth, self.width_out * self.height_out))\n",
    "        self.max_indeces = np.empty((self.depth, self.width_out * self.height_out, 2))\n",
    "        print ('Shape of pooling layer: ', self.output.shape)\n",
    "\n",
    "    def pool(self, input_image):\n",
    "        k = 0\n",
    "        \n",
    "        # for each filter map\n",
    "        for j in range(self.depth):\n",
    "            row = 0\n",
    "            slide = 0\n",
    "            for i in range(self.width_out * self.height_out):\n",
    "                toPool = input_image[j][row:self.poolsize[0] + row, slide:self.poolsize[0] + slide]\n",
    "\n",
    "                self.output[j][k] = np.amax(toPool)                # calculate the max activation\n",
    "                index = zip(*np.where(np.max(toPool) == toPool))           # save the index of the max\n",
    "                if len(index) > 1:\n",
    "                    index = [index[0]]\n",
    "                index = index[0][0]+ row, index[0][1] + slide\n",
    "                self.max_indeces[j][k] = index\n",
    "\n",
    "                slide += self.poolsize[1]\n",
    "\n",
    "                # modify this if stride != filter for poolsize \n",
    "                if slide >= self.width_in:\n",
    "                    slide = 0\n",
    "                    row += self.poolsize[1]\n",
    "                k += 1\n",
    "#                 print 'matrix: ', toPool,'max', self.output[j][k-1]\n",
    "#                 print 'index: ', self.max_indeces[j][k-1]\n",
    "#                 if k > 10:\n",
    "#                     break\n",
    "                \n",
    "        self.output = self.output.reshape((self.depth, self.height_out, self.width_out))\n",
    "        self.max_indeces = self.max_indeces.reshape((self.depth, self.height_out, self.width_out, 2))\n",
    "#         print 'AFTER RESHPAING:', self.output"
   ]
  },
  {
   "cell_type": "code",
   "execution_count": 35,
   "metadata": {},
   "outputs": [],
   "source": [
    "class FullyConnectedLayer(object):\n",
    "    '''\n",
    "    Calculates outputs on the fully connected layer then forwardpasses to the final output -> classes\n",
    "    '''\n",
    "    def __init__(self, depth, height_in, width_in, num_output, num_classes):\n",
    "        self.width_in = width_in\n",
    "        self.height_in = height_in\n",
    "        self.depth = depth                \n",
    "        self.num_output = num_output\n",
    "        self.num_classes = num_classes\n",
    "                \n",
    "        self.weights = np.random.randn(self.num_output, self.depth * self.height_in * self.width_in)\n",
    "        self.biases = np.random.randn(self.num_output,1)\n",
    "        # self.weights = np.ones((self.num_output, self.depth * self.height_in * self.width_in))\n",
    "        # self.biases = np.ones((self.num_output,1))\n",
    "        \n",
    "        self.output = np.empty((self.num_output))\n",
    "        self.final_output = np.empty((self.num_classes))\n",
    "\n",
    "    def feedforward(self, a):\n",
    "        print ('shape of w, input, b: ', self.weights.shape, a.shape, self.biases.shape)\n",
    "        self.output = sigmoid(np.dot(self.weights, a) + self.biases)\n",
    "        print (self.output)\n",
    "        \n",
    "        # forwardpass to classification\n",
    "        self.final_output = classify(self.output, self.num_output, self.num_classes)\n",
    "        return self.final_output\n",
    "    "
   ]
  },
  {
   "cell_type": "code",
   "execution_count": 36,
   "metadata": {},
   "outputs": [
    {
     "ename": "SyntaxError",
     "evalue": "unexpected EOF while parsing (<ipython-input-36-b5142f6c7cba>, line 8)",
     "output_type": "error",
     "traceback": [
      "\u001b[0;36m  File \u001b[0;32m\"<ipython-input-36-b5142f6c7cba>\"\u001b[0;36m, line \u001b[0;32m8\u001b[0m\n\u001b[0;31m    \u001b[0m\n\u001b[0m    ^\u001b[0m\n\u001b[0;31mSyntaxError\u001b[0m\u001b[0;31m:\u001b[0m unexpected EOF while parsing\n"
     ]
    }
   ],
   "source": [
    "class SGD(object):\n",
    "    '''\n",
    "    Stochastic Gradient Descent -> take input - forwardpass -> loss function -> backprop + update -> validate\n",
    "    '''\n",
    "    def __init__(self, trainingSet, batch_size, learningRate, epochs, test_data=None):\n",
    "        \n",
    "\n",
    "            "
   ]
  },
  {
   "cell_type": "code",
   "execution_count": 37,
   "metadata": {},
   "outputs": [],
   "source": [
    "def classify(x, num_inputs, num_classes):\n",
    "    # I. initialize weights and biases!\n",
    "    w = np.random.randn(num_classes, num_inputs)\n",
    "    b = np.random.randn(num_classes,1)\n",
    "    return sigmoid(np.dot(w,x) + b)\n",
    "\n",
    "def cross_entropy(batch_size, output, expected_output):\n",
    "    return (-1/batch_size) * np.sum(expected_output * np.log(output) + (1 - expected_output) * np.log(1-output))\n",
    "\n",
    "def cross_entropy_prime():\n",
    "    return 0\n",
    "    "
   ]
  },
  {
   "cell_type": "code",
   "execution_count": 38,
   "metadata": {},
   "outputs": [],
   "source": [
    "def sigmoid(z):\n",
    "    return 1.0/(1.0 + np.exp(-z))\n",
    "\n",
    "def sigmoid_prime(z):\n",
    "    return sigmoid(z) * (1-sigmoid(z))"
   ]
  },
  {
   "cell_type": "code",
   "execution_count": 39,
   "metadata": {},
   "outputs": [
    {
     "name": "stdout",
     "output_type": "stream",
     "text": [
      "yooooo 2752\n",
      "shape of input (rows,cols):  (43, 64)\n",
      "shape of output (rows, cols):  ( 42.0 , 63.0 )\n",
      "2646\n",
      "2646\n",
      "2646\n",
      "[array([[0.67314478, 0.67314478, 0.67314478, ..., 0.67314478, 0.67314478,\n",
      "        0.67314478],\n",
      "       [0.67314478, 0.67314478, 0.67314478, ..., 0.67314478, 0.67314478,\n",
      "        0.67314478],\n",
      "       [0.67314478, 0.67314478, 0.67314478, ..., 0.67314478, 0.67314478,\n",
      "        0.67314478],\n",
      "       ...,\n",
      "       [0.67314478, 0.67314478, 0.67314478, ..., 0.67314478, 0.67314478,\n",
      "        0.67314478],\n",
      "       [0.67314478, 0.67314478, 0.67314478, ..., 0.67314478, 0.67314478,\n",
      "        0.67314478],\n",
      "       [0.67314478, 0.67314478, 0.67314478, ..., 0.67314478, 0.67314478,\n",
      "        0.67314478]]), array([[0.51003491, 0.51003491, 0.51003491, ..., 0.51003491, 0.51003491,\n",
      "        0.51003491],\n",
      "       [0.51003491, 0.51003491, 0.51003491, ..., 0.51003491, 0.51003491,\n",
      "        0.51003491],\n",
      "       [0.51003491, 0.51003491, 0.51003491, ..., 0.51003491, 0.51003491,\n",
      "        0.51003491],\n",
      "       ...,\n",
      "       [0.51003491, 0.51003491, 0.51003491, ..., 0.51003491, 0.51003491,\n",
      "        0.51003491],\n",
      "       [0.51003491, 0.51003491, 0.51003491, ..., 0.51003491, 0.51003491,\n",
      "        0.51003491],\n",
      "       [0.51003491, 0.51003491, 0.51003491, ..., 0.51003491, 0.51003491,\n",
      "        0.51003491]]), array([[0.68219783, 0.68219783, 0.68219783, ..., 0.68219783, 0.68219783,\n",
      "        0.68219783],\n",
      "       [0.68219783, 0.68219783, 0.68219783, ..., 0.68219783, 0.68219783,\n",
      "        0.68219783],\n",
      "       [0.68219783, 0.68219783, 0.68219783, ..., 0.68219783, 0.68219783,\n",
      "        0.68219783],\n",
      "       ...,\n",
      "       [0.68219783, 0.68219783, 0.68219783, ..., 0.68219783, 0.68219783,\n",
      "        0.68219783],\n",
      "       [0.68219783, 0.68219783, 0.68219783, ..., 0.68219783, 0.68219783,\n",
      "        0.68219783],\n",
      "       [0.68219783, 0.68219783, 0.68219783, ..., 0.68219783, 0.68219783,\n",
      "        0.68219783]])]\n"
     ]
    }
   ],
   "source": [
    "net = ToyNet([cat.shape[0]*cat.shape[1]])\n",
    "print ('yooooo', net.sizes[0])\n",
    "conv_output = net.convolve(cat)\n",
    "\n",
    "# TODO: implement for all activations!\n",
    "# pool_layer = PoolingLayer(12, 12, 1) # only implemented for the first depth layer\n",
    "# # pool_layer.pool(test)\n",
    "\n",
    "# test = 1 - test /144\n",
    "# test = test.reshape((3*12*4,1))\n",
    "# fc = FullyConnectedLayer(3,12,4,10,2)\n",
    "# fc.feedforward(test)"
   ]
  },
  {
   "cell_type": "code",
   "execution_count": 40,
   "metadata": {},
   "outputs": [
    {
     "name": "stdout",
     "output_type": "stream",
     "text": [
      "shape of w, input, b:  (2, 8) (8, 1) (2, 1)\n",
      "[[1.        ]\n",
      " [0.96531622]]\n"
     ]
    },
    {
     "data": {
      "text/plain": [
       "array([], shape=(0, 1), dtype=float64)"
      ]
     },
     "execution_count": 40,
     "metadata": {},
     "output_type": "execute_result"
    }
   ],
   "source": [
    "# test\n",
    "a = np.arange(8).reshape((2*2*2,1))\n",
    "w = np.ones(16).reshape((2,2,2,2))\n",
    "o = np.arange(2).reshape((2,1))\n",
    "\n",
    "fc = FullyConnectedLayer(2,2,2,2,0)\n",
    "fc.feedforward(a)\n"
   ]
  },
  {
   "cell_type": "code",
   "execution_count": null,
   "metadata": {
    "collapsed": true
   },
   "outputs": [],
   "source": []
  }
 ],
 "metadata": {
  "kernelspec": {
   "display_name": "Python 3",
   "language": "python",
   "name": "python3"
  },
  "language_info": {
   "codemirror_mode": {
    "name": "ipython",
    "version": 3
   },
   "file_extension": ".py",
   "mimetype": "text/x-python",
   "name": "python",
   "nbconvert_exporter": "python",
   "pygments_lexer": "ipython3",
   "version": "3.6.7"
  }
 },
 "nbformat": 4,
 "nbformat_minor": 1
}
